{
 "cells": [
  {
   "cell_type": "markdown",
   "id": "ca0c68c1",
   "metadata": {},
   "source": [
    "## Importing Libraries"
   ]
  },
  {
   "cell_type": "code",
   "execution_count": 1,
   "id": "e65c0daf",
   "metadata": {},
   "outputs": [],
   "source": [
    "import networkx as nx\n",
    "import matplotlib.pyplot as plt\n",
    "import pandas as pd"
   ]
  },
  {
   "cell_type": "markdown",
   "id": "f74a7fa6",
   "metadata": {},
   "source": [
    "# CPU Time Relation"
   ]
  },
  {
   "cell_type": "markdown",
   "id": "e70238a7",
   "metadata": {},
   "source": [
    "We know, \n",
    "\n",
    "### Expected processing time = no of instructions * CPI(avg.) /Clockrate\n",
    "\n",
    "and since,\n",
    "### CPI=Clock cycles for a program / Instructions count\n",
    "\n",
    "So this implies, \n",
    "### Expected processing time = Clock cycles for a program / Clock rate"
   ]
  },
  {
   "cell_type": "code",
   "execution_count": null,
   "id": "6bfcf34a",
   "metadata": {},
   "outputs": [],
   "source": []
  },
  {
   "cell_type": "markdown",
   "id": "99c60821",
   "metadata": {},
   "source": [
    "# Assumptions"
   ]
  },
  {
   "cell_type": "markdown",
   "id": "8f0bc594",
   "metadata": {},
   "source": [
    "Consider an implementation of MIPS(Million Instructions Per Second) ISA(Instruction Set Architecture)\n",
    "<br>\n",
    "each ALU instruction takes 3 clock cycles,\n",
    "<br>\n",
    "each branch/jump instruction takes 2 clock cycles,\n",
    "<br>\n",
    "each sw instruction takes 4 clock cycles,\n",
    "<br>\n",
    "each lw instruction takes 5 clock cycles\n",
    "<br>\n",
    "<br>\n",
    "And further lets assume a program that during its execution executes:\n",
    "<br>\n",
    "x=200 million ALU instructions\n",
    "<br>\n",
    "y=55 million branch/jump instructions\n",
    "<br>\n",
    "z=25 million sw instructions\n",
    "<br>\n",
    "w=20 million lw instructions\n"
   ]
  },
  {
   "cell_type": "code",
   "execution_count": null,
   "id": "b83de494",
   "metadata": {},
   "outputs": [],
   "source": []
  },
  {
   "cell_type": "markdown",
   "id": "a636a6bd",
   "metadata": {},
   "source": [
    "## Expected Processing Time for whole program with sequential execution on single processors\n",
    "\n",
    "### P1 (3.5 GHz):\n",
    "Clock cycles for a program = (x * 3  + y * 2 + z * 4 + w * 5) = 910 * 10^6 clock cycles\n",
    "<br>\n",
    "<br>\n",
    "Expected Processing Time = Clock cycles for a program / Clock rate\n",
    "<br>\n",
    "<br>\n",
    "= 910 * 10^6 / 3.5 * 10^9 = 0.26 sec\n",
    "<br>\n",
    "<br>\n",
    "### P2 (2 GHz):\n",
    "Clock cycles for a program = (x * 3  + y * 2 + z * 4 + w * 5) = 910 * 10^6 clock cycles\n",
    "<br>\n",
    "<br>\n",
    "Expected Processing Time = Clock cycles for a program / Clock rate\n",
    "<br>\n",
    "<br>\n",
    "= 910 * 10^6 / 2 * 10^9 = 0.455 sec\n",
    "<br>\n",
    "<br>\n",
    "### P3 (2.5 GHz):\n",
    "Clock cycles for a program = (x * 3  + y * 2 + z * 4 + w * 5) = 910 * 10^6 clock cycles\n",
    "<br>\n",
    "<br>\n",
    "Expected Processing Time = Clock cycles for a program / Clock rate\n",
    "<br>\n",
    "<br>\n",
    "= 910 * 10^6 / 2.5 * 10^9 = 0.364 sec\n"
   ]
  },
  {
   "cell_type": "code",
   "execution_count": null,
   "id": "a95bb595",
   "metadata": {},
   "outputs": [],
   "source": []
  },
  {
   "cell_type": "markdown",
   "id": "97cfb3ed",
   "metadata": {},
   "source": [
    "### Now lets try breaking the instructions into 6 subtasks with parent child subtask assumption\n"
   ]
  },
  {
   "cell_type": "markdown",
   "id": "b2083c10",
   "metadata": {},
   "source": [
    "\n",
    "### T1:\n",
    "x=33 million ALU instructions\n",
    "<br>\n",
    "y=10 million branch/jump instructions\n",
    "<br>\n",
    "z=4 million sw instructions\n",
    "<br>\n",
    "w=4 million lw instructions\n",
    "<br>\n",
    "### T2:\n",
    "x=33 million ALU instructions\n",
    "<br>\n",
    "y=9 million branch/jump instructions\n",
    "<br>\n",
    "z=5 million sw instructions\n",
    "<br>\n",
    "w=4 million lw instructions\n",
    "<br>\n",
    "### T3:\n",
    "x=33 million ALU instructions\n",
    "<br>\n",
    "y=9 million branch/jump instructions\n",
    "<br>\n",
    "z=4 million sw instructions\n",
    "<br>\n",
    "w=3 million lw instructions\n",
    "<br>\n",
    "<br>\n",
    "### T4:\n",
    "x=33 million ALU instructions\n",
    "<br>\n",
    "y=9 million branch/jump instructions\n",
    "<br>\n",
    "z=4 million sw instructions\n",
    "<br>\n",
    "w=3 million lw instructions\n",
    "<br>\n",
    "### T5:\n",
    "x=33 million ALU instructions\n",
    "<br>\n",
    "y=9 million branch/jump instructions\n",
    "<br>\n",
    "z=4 million sw instructions\n",
    "<br>\n",
    "w=3 million lw instructions\n",
    "<br>\n",
    "### T6:\n",
    "x=35 million ALU instructions\n",
    "<br>\n",
    "y=9 million branch/jump instructions\n",
    "<br>\n",
    "z=4 million sw instructions\n",
    "<br>\n",
    "w=3 million lw instructions\n",
    "<br>\n",
    "\n",
    "## NOTE:\n",
    "I'm breaking the overall instructions into 6 subsets, just for the purpose of demonstration,the actual segmentation and further allocation differs according to the instructions' type and the nature of the program"
   ]
  },
  {
   "cell_type": "code",
   "execution_count": 2,
   "id": "84767a34",
   "metadata": {},
   "outputs": [
    {
     "data": {
      "text/html": [
       "<div>\n",
       "<style scoped>\n",
       "    .dataframe tbody tr th:only-of-type {\n",
       "        vertical-align: middle;\n",
       "    }\n",
       "\n",
       "    .dataframe tbody tr th {\n",
       "        vertical-align: top;\n",
       "    }\n",
       "\n",
       "    .dataframe thead th {\n",
       "        text-align: right;\n",
       "    }\n",
       "</style>\n",
       "<table border=\"1\" class=\"dataframe\">\n",
       "  <thead>\n",
       "    <tr style=\"text-align: right;\">\n",
       "      <th></th>\n",
       "      <th>P1</th>\n",
       "      <th>P2</th>\n",
       "      <th>P3</th>\n",
       "    </tr>\n",
       "  </thead>\n",
       "  <tbody>\n",
       "    <tr>\n",
       "      <th>T1</th>\n",
       "      <td>0.044</td>\n",
       "      <td>0.077</td>\n",
       "      <td>0.062</td>\n",
       "    </tr>\n",
       "    <tr>\n",
       "      <th>T2</th>\n",
       "      <td>0.044</td>\n",
       "      <td>0.078</td>\n",
       "      <td>0.062</td>\n",
       "    </tr>\n",
       "    <tr>\n",
       "      <th>T3</th>\n",
       "      <td>0.042</td>\n",
       "      <td>0.074</td>\n",
       "      <td>0.059</td>\n",
       "    </tr>\n",
       "    <tr>\n",
       "      <th>T4</th>\n",
       "      <td>0.042</td>\n",
       "      <td>0.074</td>\n",
       "      <td>0.059</td>\n",
       "    </tr>\n",
       "    <tr>\n",
       "      <th>T5</th>\n",
       "      <td>0.042</td>\n",
       "      <td>0.074</td>\n",
       "      <td>0.059</td>\n",
       "    </tr>\n",
       "    <tr>\n",
       "      <th>T6</th>\n",
       "      <td>0.044</td>\n",
       "      <td>0.077</td>\n",
       "      <td>0.061</td>\n",
       "    </tr>\n",
       "  </tbody>\n",
       "</table>\n",
       "</div>"
      ],
      "text/plain": [
       "       P1     P2     P3\n",
       "T1  0.044  0.077  0.062\n",
       "T2  0.044  0.078  0.062\n",
       "T3  0.042  0.074  0.059\n",
       "T4  0.042  0.074  0.059\n",
       "T5  0.042  0.074  0.059\n",
       "T6  0.044  0.077  0.061"
      ]
     },
     "execution_count": 2,
     "metadata": {},
     "output_type": "execute_result"
    }
   ],
   "source": [
    "data={'P1':[0.044,0.044,0.042,0.042,0.042,0.044],\n",
    "     'P2':[0.077,0.078,0.074,0.074,0.074,0.077],\n",
    "     'P3':[0.062,0.062,0.059,0.059,0.059,0.061]}\n",
    "\n",
    "EPT_Matrix = pd.DataFrame(data, index=['T1','T2','T3','T4','T5','T6'])\n",
    "EPT_Matrix"
   ]
  },
  {
   "cell_type": "markdown",
   "id": "dcfaceb9",
   "metadata": {},
   "source": [
    "# Assumption regarding latency\n",
    "\n",
    "### FILL"
   ]
  },
  {
   "cell_type": "markdown",
   "id": "08149c23",
   "metadata": {},
   "source": [
    "# Visualizing Directed Acyclic Graph for subtasks"
   ]
  },
  {
   "cell_type": "markdown",
   "id": "a6347175",
   "metadata": {},
   "source": [
    "### Helper Function"
   ]
  },
  {
   "cell_type": "code",
   "execution_count": 3,
   "id": "ad46973a",
   "metadata": {},
   "outputs": [],
   "source": [
    "def show_wgraph(custom_node_positions=None):\n",
    "    plt.figure() \n",
    "    if custom_node_positions==None:\n",
    "        pos = nx.spring_layout(G)\n",
    "    else:\n",
    "        pos=custom_node_positions\n",
    "        \n",
    "    weight_labels = nx.get_edge_attributes(G,'weight')\n",
    "    nx.draw(G,pos,font_color = 'white', node_shape = 's', with_labels = True,)\n",
    "    output = nx.draw_networkx_edge_labels(G,pos,edge_labels=weight_labels)\n"
   ]
  },
  {
   "cell_type": "markdown",
   "id": "aedd00a3",
   "metadata": {},
   "source": [
    "### Initiating subtask nodes and latency transitions"
   ]
  },
  {
   "cell_type": "code",
   "execution_count": 4,
   "id": "a9b6a219",
   "metadata": {},
   "outputs": [
    {
     "data": {
      "image/png": "[encoded data removed]",
      "text/plain": [
       "<Figure size 640x480 with 1 Axes>"
      ]
     },
     "metadata": {},
     "output_type": "display_data"
    }
   ],
   "source": [
    "G = nx.DiGraph()\n",
    "\n",
    "G.add_node('T1')\n",
    "G.add_node('T2')\n",
    "G.add_node('T3')\n",
    "G.add_node('T4')\n",
    "G.add_node('T5')\n",
    "G.add_node('T6')\n",
    "\n",
    "G.add_edge('T1', 'T2', weight=3)\n",
    "G.add_edge('T1', 'T3', weight=2)\n",
    "G.add_edge('T2', 'T4',weight=2)\n",
    "G.add_edge('T3', 'T5', weight=2)\n",
    "G.add_edge('T4', 'T6', weight=5)\n",
    "G.add_edge('T5', 'T6', weight=4)\n",
    "G.add_edge('T8', 'T3', weight=2)\n",
    "G.add_edge('T7', 'T6', weight=2)\n",
    "\n",
    "\n",
    "\n",
    "show_wgraph()\n",
    "# [8, 7, 5, 2, 1, 3, 4, 6]\n"
   ]
  },
  {
   "cell_type": "markdown",
   "id": "b47c8639",
   "metadata": {},
   "source": [
    "# Breadth First Search Sequence Order"
   ]
  },
  {
   "cell_type": "code",
   "execution_count": 5,
   "id": "a80fa384",
   "metadata": {},
   "outputs": [
    {
     "data": {
      "text/plain": [
       "['T1', 'T2', 'T3', 'T4', 'T5', 'T6']"
      ]
     },
     "execution_count": 5,
     "metadata": {},
     "output_type": "execute_result"
    }
   ],
   "source": [
    "root = 'T1'\n",
    "edges = nx.bfs_edges(G, root)\n",
    "nodes_b = [root] + [v for u, v in edges]\n",
    "nodes_b"
   ]
  },
  {
   "cell_type": "markdown",
   "id": "bfdd9ea7",
   "metadata": {},
   "source": [
    "# Depth First Search Sequence Order"
   ]
  },
  {
   "cell_type": "code",
   "execution_count": 6,
   "id": "9aad8294",
   "metadata": {},
   "outputs": [
    {
     "data": {
      "text/plain": [
       "['T1', 'T2', 'T4', 'T6', 'T3', 'T5']"
      ]
     },
     "execution_count": 6,
     "metadata": {},
     "output_type": "execute_result"
    }
   ],
   "source": [
    "#DFS Execution Order\n",
    "root='T1'\n",
    "edges=nx.dfs_edges(G,root)\n",
    "nodes=[root]+[v for u,v in edges]\n",
    "nodes\n",
    "#https://stackoverflow.com/questions/14259233/graph-traversal-with-networkx-python (custom traversal)"
   ]
  },
  {
   "cell_type": "markdown",
   "id": "f0f65245",
   "metadata": {},
   "source": [
    "# Topological Sort Sequence Order"
   ]
  },
  {
   "cell_type": "code",
   "execution_count": 7,
   "id": "078749f6",
   "metadata": {},
   "outputs": [
    {
     "data": {
      "text/plain": [
       "True"
      ]
     },
     "execution_count": 7,
     "metadata": {},
     "output_type": "execute_result"
    }
   ],
   "source": [
    "nx.is_directed_acyclic_graph(G)"
   ]
  },
  {
   "cell_type": "code",
   "execution_count": 8,
   "id": "0fb78552",
   "metadata": {},
   "outputs": [
    {
     "data": {
      "text/plain": [
       "['T1', 'T8', 'T7', 'T2', 'T3', 'T4', 'T5', 'T6']"
      ]
     },
     "execution_count": 8,
     "metadata": {},
     "output_type": "execute_result"
    }
   ],
   "source": [
    "nodes=list(nx.topological_sort(G))\n",
    "nodes"
   ]
  },
  {
   "cell_type": "code",
   "execution_count": null,
   "id": "f6b9ee01",
   "metadata": {},
   "outputs": [],
   "source": []
  },
  {
   "cell_type": "code",
   "execution_count": null,
   "id": "41e98ebc",
   "metadata": {},
   "outputs": [],
   "source": []
  },
  {
   "cell_type": "code",
   "execution_count": null,
   "id": "a816cece",
   "metadata": {},
   "outputs": [],
   "source": []
  },
  {
   "cell_type": "code",
   "execution_count": null,
   "id": "a8ce6f81",
   "metadata": {},
   "outputs": [],
   "source": []
  },
  {
   "cell_type": "code",
   "execution_count": null,
   "id": "60432055",
   "metadata": {},
   "outputs": [],
   "source": []
  },
  {
   "cell_type": "code",
   "execution_count": null,
   "id": "f45a56ff",
   "metadata": {},
   "outputs": [],
   "source": []
  },
  {
   "cell_type": "code",
   "execution_count": null,
   "id": "ead41d6a",
   "metadata": {},
   "outputs": [],
   "source": []
  },
  {
   "cell_type": "code",
   "execution_count": null,
   "id": "814fee9d",
   "metadata": {},
   "outputs": [],
   "source": []
  },
  {
   "cell_type": "code",
   "execution_count": null,
   "id": "39285bb1",
   "metadata": {},
   "outputs": [],
   "source": []
  },
  {
   "cell_type": "code",
   "execution_count": 9,
   "id": "1e28aff7",
   "metadata": {},
   "outputs": [],
   "source": [
    "import sys"
   ]
  },
  {
   "cell_type": "code",
   "execution_count": 10,
   "id": "f908cf4a",
   "metadata": {},
   "outputs": [
    {
     "data": {
      "text/plain": [
       "['T1', 'T8', 'T7', 'T2', 'T3', 'T4', 'T5', 'T6']"
      ]
     },
     "execution_count": 10,
     "metadata": {},
     "output_type": "execute_result"
    }
   ],
   "source": [
    "nodes"
   ]
  },
  {
   "cell_type": "code",
   "execution_count": 11,
   "id": "a5c7bb43",
   "metadata": {},
   "outputs": [
    {
     "data": {
      "text/html": [
       "<div>\n",
       "<style scoped>\n",
       "    .dataframe tbody tr th:only-of-type {\n",
       "        vertical-align: middle;\n",
       "    }\n",
       "\n",
       "    .dataframe tbody tr th {\n",
       "        vertical-align: top;\n",
       "    }\n",
       "\n",
       "    .dataframe thead th {\n",
       "        text-align: right;\n",
       "    }\n",
       "</style>\n",
       "<table border=\"1\" class=\"dataframe\">\n",
       "  <thead>\n",
       "    <tr style=\"text-align: right;\">\n",
       "      <th></th>\n",
       "      <th>T1</th>\n",
       "      <th>T2</th>\n",
       "      <th>T3</th>\n",
       "      <th>T4</th>\n",
       "      <th>T5</th>\n",
       "      <th>T6</th>\n",
       "      <th>T7</th>\n",
       "      <th>T8</th>\n",
       "    </tr>\n",
       "  </thead>\n",
       "  <tbody>\n",
       "    <tr>\n",
       "      <th>T1</th>\n",
       "      <td>0</td>\n",
       "      <td>2</td>\n",
       "      <td>3</td>\n",
       "      <td>0</td>\n",
       "      <td>0</td>\n",
       "      <td>0</td>\n",
       "      <td>0</td>\n",
       "      <td>0</td>\n",
       "    </tr>\n",
       "    <tr>\n",
       "      <th>T2</th>\n",
       "      <td>0</td>\n",
       "      <td>0</td>\n",
       "      <td>0</td>\n",
       "      <td>2</td>\n",
       "      <td>0</td>\n",
       "      <td>0</td>\n",
       "      <td>0</td>\n",
       "      <td>0</td>\n",
       "    </tr>\n",
       "    <tr>\n",
       "      <th>T3</th>\n",
       "      <td>0</td>\n",
       "      <td>0</td>\n",
       "      <td>0</td>\n",
       "      <td>0</td>\n",
       "      <td>1</td>\n",
       "      <td>0</td>\n",
       "      <td>0</td>\n",
       "      <td>0</td>\n",
       "    </tr>\n",
       "    <tr>\n",
       "      <th>T4</th>\n",
       "      <td>0</td>\n",
       "      <td>0</td>\n",
       "      <td>0</td>\n",
       "      <td>0</td>\n",
       "      <td>0</td>\n",
       "      <td>1</td>\n",
       "      <td>0</td>\n",
       "      <td>0</td>\n",
       "    </tr>\n",
       "    <tr>\n",
       "      <th>T5</th>\n",
       "      <td>0</td>\n",
       "      <td>0</td>\n",
       "      <td>0</td>\n",
       "      <td>0</td>\n",
       "      <td>0</td>\n",
       "      <td>2</td>\n",
       "      <td>0</td>\n",
       "      <td>0</td>\n",
       "    </tr>\n",
       "    <tr>\n",
       "      <th>T6</th>\n",
       "      <td>0</td>\n",
       "      <td>0</td>\n",
       "      <td>0</td>\n",
       "      <td>0</td>\n",
       "      <td>0</td>\n",
       "      <td>0</td>\n",
       "      <td>0</td>\n",
       "      <td>0</td>\n",
       "    </tr>\n",
       "    <tr>\n",
       "      <th>T7</th>\n",
       "      <td>0</td>\n",
       "      <td>0</td>\n",
       "      <td>0</td>\n",
       "      <td>0</td>\n",
       "      <td>0</td>\n",
       "      <td>2</td>\n",
       "      <td>0</td>\n",
       "      <td>0</td>\n",
       "    </tr>\n",
       "    <tr>\n",
       "      <th>T8</th>\n",
       "      <td>0</td>\n",
       "      <td>0</td>\n",
       "      <td>2</td>\n",
       "      <td>0</td>\n",
       "      <td>0</td>\n",
       "      <td>2</td>\n",
       "      <td>0</td>\n",
       "      <td>0</td>\n",
       "    </tr>\n",
       "  </tbody>\n",
       "</table>\n",
       "</div>"
      ],
      "text/plain": [
       "    T1  T2  T3  T4  T5  T6  T7  T8\n",
       "T1   0   2   3   0   0   0   0   0\n",
       "T2   0   0   0   2   0   0   0   0\n",
       "T3   0   0   0   0   1   0   0   0\n",
       "T4   0   0   0   0   0   1   0   0\n",
       "T5   0   0   0   0   0   2   0   0\n",
       "T6   0   0   0   0   0   0   0   0\n",
       "T7   0   0   0   0   0   2   0   0\n",
       "T8   0   0   2   0   0   2   0   0"
      ]
     },
     "execution_count": 11,
     "metadata": {},
     "output_type": "execute_result"
    }
   ],
   "source": [
    "data={'T1':[0,2,3,0,0,0,0,0],\n",
    "     'T2':[0,0,0,2,0,0,0,0],\n",
    "     'T3':[0,0,0,0,1,0,0,0],\n",
    "     'T4':[0,0,0,0,0,1,0,0],\n",
    "     'T5':[0,0,0,0,0,2,0,0],\n",
    "     'T6':[0,0,0,0,0,0,0,0],\n",
    "     'T7':[0,0,0,0,0,2,0,0],\n",
    "     'T8':[0,0,2,0,0,2,0,0]\n",
    "     }\n",
    "\n",
    "latency = pd.DataFrame(data, index=['T1','T2','T3','T4','T5','T6','T7','T8']).transpose()\n",
    "latency"
   ]
  },
  {
   "cell_type": "code",
   "execution_count": 12,
   "id": "0c4b69ef",
   "metadata": {},
   "outputs": [
    {
     "data": {
      "text/html": [
       "<div>\n",
       "<style scoped>\n",
       "    .dataframe tbody tr th:only-of-type {\n",
       "        vertical-align: middle;\n",
       "    }\n",
       "\n",
       "    .dataframe tbody tr th {\n",
       "        vertical-align: top;\n",
       "    }\n",
       "\n",
       "    .dataframe thead th {\n",
       "        text-align: right;\n",
       "    }\n",
       "</style>\n",
       "<table border=\"1\" class=\"dataframe\">\n",
       "  <thead>\n",
       "    <tr style=\"text-align: right;\">\n",
       "      <th></th>\n",
       "      <th>P1</th>\n",
       "      <th>P2</th>\n",
       "      <th>P3</th>\n",
       "    </tr>\n",
       "  </thead>\n",
       "  <tbody>\n",
       "    <tr>\n",
       "      <th>T1</th>\n",
       "      <td>0.044</td>\n",
       "      <td>0.077</td>\n",
       "      <td>0.062</td>\n",
       "    </tr>\n",
       "    <tr>\n",
       "      <th>T2</th>\n",
       "      <td>0.044</td>\n",
       "      <td>0.078</td>\n",
       "      <td>0.062</td>\n",
       "    </tr>\n",
       "    <tr>\n",
       "      <th>T3</th>\n",
       "      <td>0.042</td>\n",
       "      <td>0.074</td>\n",
       "      <td>0.059</td>\n",
       "    </tr>\n",
       "    <tr>\n",
       "      <th>T4</th>\n",
       "      <td>0.042</td>\n",
       "      <td>0.074</td>\n",
       "      <td>0.059</td>\n",
       "    </tr>\n",
       "    <tr>\n",
       "      <th>T5</th>\n",
       "      <td>0.042</td>\n",
       "      <td>0.074</td>\n",
       "      <td>0.059</td>\n",
       "    </tr>\n",
       "    <tr>\n",
       "      <th>T6</th>\n",
       "      <td>0.044</td>\n",
       "      <td>0.077</td>\n",
       "      <td>0.061</td>\n",
       "    </tr>\n",
       "    <tr>\n",
       "      <th>T7</th>\n",
       "      <td>0.044</td>\n",
       "      <td>0.077</td>\n",
       "      <td>0.058</td>\n",
       "    </tr>\n",
       "    <tr>\n",
       "      <th>T8</th>\n",
       "      <td>0.042</td>\n",
       "      <td>0.075</td>\n",
       "      <td>0.061</td>\n",
       "    </tr>\n",
       "  </tbody>\n",
       "</table>\n",
       "</div>"
      ],
      "text/plain": [
       "       P1     P2     P3\n",
       "T1  0.044  0.077  0.062\n",
       "T2  0.044  0.078  0.062\n",
       "T3  0.042  0.074  0.059\n",
       "T4  0.042  0.074  0.059\n",
       "T5  0.042  0.074  0.059\n",
       "T6  0.044  0.077  0.061\n",
       "T7  0.044  0.077  0.058\n",
       "T8  0.042  0.075  0.061"
      ]
     },
     "execution_count": 12,
     "metadata": {},
     "output_type": "execute_result"
    }
   ],
   "source": [
    "data={'P1':[0.044,0.044,0.042,0.042,0.042,0.044,0.044,0.042],\n",
    "     'P2':[0.077,0.078,0.074,0.074,0.074,0.077,0.077,0.075],\n",
    "     'P3':[0.062,0.062,0.059,0.059,0.059,0.061,0.058,0.061]}\n",
    "\n",
    "EPT_Matrix = pd.DataFrame(data, index=['T1','T2','T3','T4','T5','T6','T7','T8'])\n",
    "EPT_Matrix"
   ]
  },
  {
   "cell_type": "code",
   "execution_count": 13,
   "id": "8a22ff27",
   "metadata": {},
   "outputs": [
    {
     "data": {
      "text/html": [
       "<div>\n",
       "<style scoped>\n",
       "    .dataframe tbody tr th:only-of-type {\n",
       "        vertical-align: middle;\n",
       "    }\n",
       "\n",
       "    .dataframe tbody tr th {\n",
       "        vertical-align: top;\n",
       "    }\n",
       "\n",
       "    .dataframe thead th {\n",
       "        text-align: right;\n",
       "    }\n",
       "</style>\n",
       "<table border=\"1\" class=\"dataframe\">\n",
       "  <thead>\n",
       "    <tr style=\"text-align: right;\">\n",
       "      <th></th>\n",
       "      <th>P1</th>\n",
       "      <th>P2</th>\n",
       "      <th>P3</th>\n",
       "    </tr>\n",
       "  </thead>\n",
       "  <tbody>\n",
       "    <tr>\n",
       "      <th>T1</th>\n",
       "      <td>0.044</td>\n",
       "      <td>0.077</td>\n",
       "      <td>0.062</td>\n",
       "    </tr>\n",
       "    <tr>\n",
       "      <th>T2</th>\n",
       "      <td>0.044</td>\n",
       "      <td>0.078</td>\n",
       "      <td>0.062</td>\n",
       "    </tr>\n",
       "    <tr>\n",
       "      <th>T3</th>\n",
       "      <td>0.042</td>\n",
       "      <td>0.074</td>\n",
       "      <td>0.059</td>\n",
       "    </tr>\n",
       "    <tr>\n",
       "      <th>T4</th>\n",
       "      <td>0.042</td>\n",
       "      <td>0.074</td>\n",
       "      <td>0.059</td>\n",
       "    </tr>\n",
       "    <tr>\n",
       "      <th>T5</th>\n",
       "      <td>0.042</td>\n",
       "      <td>0.074</td>\n",
       "      <td>0.059</td>\n",
       "    </tr>\n",
       "    <tr>\n",
       "      <th>T6</th>\n",
       "      <td>0.044</td>\n",
       "      <td>0.077</td>\n",
       "      <td>0.061</td>\n",
       "    </tr>\n",
       "    <tr>\n",
       "      <th>T7</th>\n",
       "      <td>0.044</td>\n",
       "      <td>0.077</td>\n",
       "      <td>0.058</td>\n",
       "    </tr>\n",
       "    <tr>\n",
       "      <th>T8</th>\n",
       "      <td>0.042</td>\n",
       "      <td>0.075</td>\n",
       "      <td>0.061</td>\n",
       "    </tr>\n",
       "  </tbody>\n",
       "</table>\n",
       "</div>"
      ],
      "text/plain": [
       "       P1     P2     P3\n",
       "T1  0.044  0.077  0.062\n",
       "T2  0.044  0.078  0.062\n",
       "T3  0.042  0.074  0.059\n",
       "T4  0.042  0.074  0.059\n",
       "T5  0.042  0.074  0.059\n",
       "T6  0.044  0.077  0.061\n",
       "T7  0.044  0.077  0.058\n",
       "T8  0.042  0.075  0.061"
      ]
     },
     "execution_count": 13,
     "metadata": {},
     "output_type": "execute_result"
    }
   ],
   "source": [
    "EPT_Matrix"
   ]
  },
  {
   "cell_type": "code",
   "execution_count": 14,
   "id": "f7438235",
   "metadata": {},
   "outputs": [
    {
     "data": {
      "text/plain": [
       "T1    P1\n",
       "T2    P1\n",
       "T3    P1\n",
       "T4    P1\n",
       "T5    P1\n",
       "T6    P1\n",
       "T7    P1\n",
       "T8    P1\n",
       "dtype: object"
      ]
     },
     "execution_count": 14,
     "metadata": {},
     "output_type": "execute_result"
    }
   ],
   "source": [
    "EPT_Matrix.idxmin(axis=1)"
   ]
  },
  {
   "cell_type": "code",
   "execution_count": 15,
   "id": "f6d5ac96",
   "metadata": {},
   "outputs": [],
   "source": [
    "processors=3\n",
    "tasks=6"
   ]
  },
  {
   "cell_type": "code",
   "execution_count": 16,
   "id": "b5f6a275",
   "metadata": {},
   "outputs": [],
   "source": [
    "def is_entry_task(task):\n",
    "    delay=latency.index[latency['T'+str(task)] > 0].tolist()\n",
    "    if not delay:\n",
    "        return 1\n",
    "    return 0"
   ]
  },
  {
   "cell_type": "code",
   "execution_count": 17,
   "id": "e522e71d",
   "metadata": {},
   "outputs": [
    {
     "data": {
      "text/plain": [
       "0"
      ]
     },
     "execution_count": 17,
     "metadata": {},
     "output_type": "execute_result"
    }
   ],
   "source": [
    "latency['T1']['T2']"
   ]
  },
  {
   "cell_type": "code",
   "execution_count": 18,
   "id": "5a08e585",
   "metadata": {},
   "outputs": [
    {
     "data": {
      "text/plain": [
       "['T1', 'T8', 'T7', 'T2', 'T3', 'T4', 'T5', 'T6']"
      ]
     },
     "execution_count": 18,
     "metadata": {},
     "output_type": "execute_result"
    }
   ],
   "source": [
    "nodes"
   ]
  },
  {
   "cell_type": "code",
   "execution_count": 19,
   "id": "39a2afb9",
   "metadata": {},
   "outputs": [
    {
     "data": {
      "text/plain": [
       "0.044"
      ]
     },
     "execution_count": 19,
     "metadata": {},
     "output_type": "execute_result"
    }
   ],
   "source": [
    "def max_pred(task,final_order):\n",
    "    predecessors=latency.index[latency['T'+str(task)] > 0].tolist()\n",
    "    \n",
    "    if not predecessors:\n",
    "        return 0\n",
    "\n",
    "    maxTime=-sys.maxsize-1\n",
    "    for pred_task,pred_value in final_order.items():\n",
    "        if pred_task in predecessors and maxTime <pred_value[1]:\n",
    "                maxTime=pred_value[1]\n",
    "    return maxTime\n",
    "    \n",
    "   \n",
    "    \n",
    "final_order={'T1': ['P1', 0.044],'T8': ['P2', 0.042],'T7': ['P3', 0.054],'T2': ['P4', 0.041]}    \n",
    "max_pred(2,final_order)"
   ]
  },
  {
   "cell_type": "code",
   "execution_count": 20,
   "id": "83bdc4d6",
   "metadata": {
    "scrolled": false
   },
   "outputs": [
    {
     "name": "stdout",
     "output_type": "stream",
     "text": [
      "processor 1 takes minimum time of 0.044 time units for task 1 and ends at 0 time unit \n",
      "processor 3 takes minimum time of 0.061 time units for task 8 and ends at 0.061 time unit \n",
      "processor 2 takes minimum time of 0.077 time units for task 7 and ends at 0.061 time unit \n",
      "processor 1 takes minimum time of 0.088 time units for task 2 and ends at 0.061 time unit \n",
      "processor 3 takes minimum time of 0.12 time units for task 3 and ends at 0.181 time unit \n",
      "processor 2 takes minimum time of 0.16199999999999998 time units for task 4 and ends at 0.181 time unit \n",
      "\n",
      "\n",
      "[0.132, 0.239, 0.181]\n",
      "{'T1': [1, 0.044], 'T8': [3, 0.061], 'T7': [2, 0.077], 'T2': [1, 0.088], 'T3': [3, 0.12], 'T4': [2, 0.16199999999999998]}\n"
     ]
    }
   ],
   "source": [
    "final_order={}\n",
    "p_clock=[0]*processors\n",
    "\n",
    "for i in range(tasks):\n",
    "    task=nodes[i][1:2]\n",
    "    minCost=sys.maxsize\n",
    "    processor_used=0\n",
    "    \n",
    "    for processor in range(processors): \n",
    "        predecessor_completion_time=max_pred(task,final_order)\n",
    "        present_processor_time=p_clock[processor]\n",
    "        max_time= max(predecessor_completion_time,present_processor_time)\n",
    "        \n",
    "        burst_time=EPT_Matrix['P'+str(processor+1)]['T'+str(task)]\n",
    "        \n",
    "        total_time=max_time+burst_time\n",
    "#         print(\"Using Processor \"+str(processor+1)+\" for task \"+str(task)+\":\")\n",
    "#         print(\"pred_time : \"+str(predecessor_completion_time))\n",
    "#         print(\"present time: \"+str(present_processor_time))\n",
    "#         print(\"max_time: \"+str(max_time))\n",
    "#         print(\"burst_time: \"+str(burst_time))\n",
    "#         print(\"total time: \"+str(total_time))\n",
    "#         print(\"\\n\")\n",
    "        \n",
    "        if(total_time<minCost):\n",
    "            minCost=total_time\n",
    "            processor_used=processor\n",
    "#     print(\"PROCESSOR \"+str(processor_used+1)+\" USED WITH \"+str(minCost)+\" TIME\\n\")   \n",
    "    p_clock[processor_used]+=minCost\n",
    "    final_order.update({'T'+str(task): [processor_used+1,minCost]})\n",
    "    print(\"processor \"+str(processor_used+1)+\" takes minimum time of \"+str(minCost)+\" time units for task \"+str(task)+\n",
    "          \" and ends at \"+str(p_clock[processor])+\" time unit \")\n",
    "print(\"\\n\")\n",
    "print(p_clock)\n",
    "print(final_order)"
   ]
  },
  {
   "cell_type": "code",
   "execution_count": 43,
   "id": "b833b310",
   "metadata": {},
   "outputs": [],
   "source": [
    "import sys\n",
    "import pandas as pd\n",
    "\n",
    "graph=[]\n",
    "vertices=[]\n",
    "vertices_no=0\n",
    "\n",
    "def add_vertex(v):\n",
    "    global graph\n",
    "    global vertices_no\n",
    "    global vertices\n",
    "    if v in vertices:\n",
    "        print(\"Vertex\",v,\"already exists\")\n",
    "    else:\n",
    "        vertices_no=vertices_no+1\n",
    "        vertices.append(v)\n",
    "        if vertices_no >1:\n",
    "            for vertex in graph:\n",
    "                vertex.append(0)\n",
    "        temp=[]\n",
    "        for i in range(vertices_no):\n",
    "            temp.append(0)\n",
    "        graph.append(temp)\n",
    "    \n",
    "def add_edge(v1,v2,e):\n",
    "    global graph\n",
    "    global vertices_no\n",
    "    global vertices\n",
    "    \n",
    "    if v1 not in vertices:\n",
    "        print(\"Vertex \",v1,\"doesn't exist.\")\n",
    "    elif v2 not in vertices:\n",
    "        print(\"Vertex \",v2,\"doesn't exist.\")\n",
    "    else:\n",
    "        index1=vertices.index(v1)\n",
    "        index2=vertices.index(v2)\n",
    "        graph[index1][index2]=e\n",
    "\n",
    "\n",
    "def print_graph():\n",
    "    global graph\n",
    "    global vertices_no\n",
    "    for i in range(vertices_no):\n",
    "        for j in range(vertices_no):\n",
    "            if graph[i][j]!=0:\n",
    "                print(vertices[i],\"-> \",vertices[j],\" edge weight: \",graph[i][j])\n",
    "                \n",
    "\n",
    "def generate_graph(tasks,edges):\n",
    "    global graph\n",
    "    for task in range(tasks):\n",
    "        add_vertex('T'+str(task+1))\n",
    "    for edge in edges:\n",
    "        add_edge(edge[0],edge[1],edge[2])\n",
    "    return graph\n",
    "                \n",
    "\n",
    "# Expected processing time = no of instructions * CPI(avg.) /Clockrate\n",
    "def calculate_processing_times(processors,tasks,processor_clock_speed,instruction_per_task,CPI):\n",
    "    expected_processing_times={}\n",
    "    for processor in range(processors):\n",
    "        task_processing_time=[]\n",
    "        for task in range(tasks):\n",
    "            processing_time=(instruction_per_task *CPI)/(processor_clock_speed[processor]*pow(10,9))\n",
    "            processing_time=round(processing_time, 3)\n",
    "            task_processing_time.append(processing_time)\n",
    "        expected_processing_times.update({'P'+str(processor+1):task_processing_time})\n",
    "    return expected_processing_times\n",
    "\n",
    "def max_predecessor(task,final_order):\n",
    "    predecessors=latency.index[latency['T'+str(task)] > 0].tolist()\n",
    "    \n",
    "    if not predecessors:\n",
    "        return 0\n",
    "\n",
    "    maxTime=-sys.maxsize-1\n",
    "    for pred_task,pred_value in final_order.items():\n",
    "        if pred_task in predecessors and maxTime <pred_value[1]:\n",
    "                maxTime=pred_value[1]\n",
    "    return maxTime\n",
    "    \n",
    "\n",
    "def schedule_tasks(processors,tasks,sequence_order,latency,EPT_Matrix):\n",
    "    final_order={}\n",
    "    p_clock=[0]*processors\n",
    "\n",
    "    for i in range(tasks):\n",
    "        task=sequence_order[i][1:2]\n",
    "        minCost=sys.maxsize\n",
    "        processor_used=0\n",
    "    \n",
    "        for processor in range(processors): \n",
    "            predecessor_completion_time=max_predecessor(task,final_order)\n",
    "            present_processor_time=p_clock[processor]\n",
    "            max_time= max(predecessor_completion_time,present_processor_time)\n",
    "        \n",
    "            burst_time=EPT_Matrix['P'+str(processor+1)]['T'+str(task)]\n",
    "        \n",
    "            total_time=max_time+burst_time\n",
    "#             print(\"Using Processor \"+str(processor+1)+\" for task \"+str(task)+\":\")\n",
    "#             print(\"pred_time : \"+str(predecessor_completion_time))\n",
    "#             print(\"present time: \"+str(present_processor_time))\n",
    "#             print(\"max_time: \"+str(max_time))\n",
    "#             print(\"burst_time: \"+str(burst_time))\n",
    "#             print(\"total time: \"+str(total_time))\n",
    "#             print(\"\\n\")\n",
    "\n",
    "            if(total_time<minCost):\n",
    "                minCost=total_time\n",
    "                processor_used=processor\n",
    "#         print(\"PROCESSOR \"+str(processor_used+1)+\" USED WITH \"+str(minCost)+\" TIME\\n\")   \n",
    "        minCost=round(minCost,3)\n",
    "        p_clock[processor_used]+=minCost\n",
    "        final_order.update({'T'+str(task): [processor_used+1,minCost]})\n",
    "        print(\"processor \"+str(processor_used+1)+\" takes minimum time of \"+str(minCost)+\" time units for task \"+str(task)+\n",
    "          \" and ends at \"+str(p_clock[processor_used])+\" time unit \")\n",
    "    print(\"\\n\")\n",
    "    print(\"Individual time taken by processors are \"+str(p_clock)+\"\\n\")\n",
    "    print(\"Total time taken for all tasks : \"+str(max(p_clock))+\" time units\\n\")\n",
    "    print(str(final_order)+\"\\n\")\n",
    "    print(\"\")\n",
    "\n",
    "\n",
    "\n",
    "    \n",
    "    "
   ]
  },
  {
   "cell_type": "code",
   "execution_count": 44,
   "id": "8523445c",
   "metadata": {},
   "outputs": [
    {
     "name": "stdout",
     "output_type": "stream",
     "text": [
      "processor 1 takes minimum time of 0.043 time units for task 1 and ends at 0.043 time unit \n",
      "processor 3 takes minimum time of 0.06 time units for task 8 and ends at 0.06 time unit \n",
      "processor 2 takes minimum time of 0.075 time units for task 7 and ends at 0.075 time unit \n",
      "processor 1 takes minimum time of 0.086 time units for task 2 and ends at 0.129 time unit \n",
      "processor 3 takes minimum time of 0.12 time units for task 3 and ends at 0.18 time unit \n",
      "processor 2 takes minimum time of 0.161 time units for task 4 and ends at 0.236 time unit \n",
      "processor 1 takes minimum time of 0.172 time units for task 5 and ends at 0.301 time unit \n",
      "processor 3 takes minimum time of 0.24 time units for task 6 and ends at 0.42 time unit \n",
      "\n",
      "\n",
      "Individual time taken by processors are [0.301, 0.236, 0.42]\n",
      "\n",
      "Total time taken : 0.42 time units\n",
      "\n",
      "{'T1': [1, 0.043], 'T8': [3, 0.06], 'T7': [2, 0.075], 'T2': [1, 0.086], 'T3': [3, 0.12], 'T4': [2, 0.161], 'T5': [1, 0.172], 'T6': [3, 0.24]}\n",
      "\n"
     ]
    }
   ],
   "source": [
    "tasks=8\n",
    "processors=3\n",
    "processor_clock_speed= [3.5,2,2.5] #In GHz\n",
    "instruction_count= 300 * pow(10,6) \n",
    "CPI=4\n",
    "edges=[['T1','T2',3],\n",
    "       ['T1','T3',2],\n",
    "       ['T2','T4',2],\n",
    "       ['T3','T5',2],\n",
    "       ['T4','T6',5],\n",
    "       ['T5','T6',4],\n",
    "       ['T8','T3',2],\n",
    "       ['T7','T6',2]]\n",
    "\n",
    "\n",
    "#-------------------------------------------------\n",
    "\n",
    "adj_matrix=generate_graph(tasks,edges)\n",
    "\n",
    "#Currently latency data is used to check for predecessors, but delay is not currently added\n",
    "latency_data={}\n",
    "for task in range(tasks):\n",
    "    latency_data.update({'T'+str(task+1):adj_matrix[task]})\n",
    "latency = pd.DataFrame(latency_data, index=vertices).transpose()\n",
    "\n",
    "instruction_per_task= instruction_count/tasks\n",
    "expected_processing_times=calculate_processing_times(processors,tasks,processor_clock_speed,instruction_per_task,CPI)\n",
    "EPT_Matrix = pd.DataFrame(expected_processing_times, index=vertices)\n",
    "\n",
    "# sequence_order=generate_sequence()\n",
    "sequence_order=['T1', 'T8', 'T7', 'T2', 'T3', 'T4', 'T5', 'T6']\n",
    "schedule_tasks(processors,tasks,sequence_order,latency,EPT_Matrix)"
   ]
  },
  {
   "cell_type": "code",
   "execution_count": null,
   "id": "a6c2304f",
   "metadata": {
    "scrolled": true
   },
   "outputs": [],
   "source": [
    "tasks=8\n",
    "processors=3\n",
    "processor_clock_speed= [3.5,2,2.5] #In GHz\n",
    "instruction_count= 300 * pow(10,6) \n",
    "CPI=4\n",
    "edges=[['T1','T2',3],\n",
    "       ['T1','T3',2],\n",
    "       ['T2','T4',2],\n",
    "       ['T3','T5',2],\n",
    "       ['T4','T6',5],\n",
    "       ['T5','T6',4],\n",
    "       ['T8','T3',2],\n",
    "       ['T7','T6',2]]\n",
    "\n",
    "\n",
    "latency_data={'T1':[0,2,3,0,0,0,0,0], #adjacency matrix\n",
    "     'T2':[0,0,0,2,0,0,0,0],\n",
    "     'T3':[0,0,0,0,1,0,0,0],\n",
    "     'T4':[0,0,0,0,0,1,0,0],\n",
    "     'T5':[0,0,0,0,0,2,0,0],\n",
    "     'T6':[0,0,0,0,0,0,0,0],\n",
    "     'T7':[0,0,0,0,0,2,0,0],\n",
    "     'T8':[0,0,2,0,0,2,0,0]\n",
    "     }\n",
    "latency = pd.DataFrame(latency_data, index=['T1','T2','T3','T4','T5','T6','T7','T8']).transpose()\n",
    "#Currently latency data is used to check for predecessors, but delay is not currently added\n",
    "\n",
    "\n",
    "instruction_per_task= instruction_count/tasks\n",
    "expected_processing_times=calculate_processing_times(processors,tasks,processor_clock_speed,instruction_per_task,CPI)\n",
    "EPT_Matrix = pd.DataFrame(expected_processing_times, index=['T1','T2','T3','T4','T5','T6','T7','T8'])\n",
    "\n",
    "\n",
    "sequence_order=['T1', 'T8', 'T7', 'T2', 'T3', 'T4', 'T5', 'T6']\n",
    "\n",
    "\n",
    "\n",
    "\n",
    "schedule_tasks(processors,tasks,sequence_order,latency,EPT_Matrix)"
   ]
  },
  {
   "cell_type": "code",
   "execution_count": null,
   "id": "4f6399c6",
   "metadata": {},
   "outputs": [],
   "source": []
  },
  {
   "cell_type": "code",
   "execution_count": null,
   "id": "dd0fa4bf",
   "metadata": {},
   "outputs": [],
   "source": [
    "def add_vertex(v):\n",
    "    global graph\n",
    "    global vertices_no\n",
    "    global vertices\n",
    "    if v in vertices:\n",
    "        print(\"Vertex\",v,\"already exists\")\n",
    "    else:\n",
    "        vertices_no=vertices_no+1\n",
    "        vertices.append(v)\n",
    "        if vertices_no >1:\n",
    "            for vertex in graph:\n",
    "                vertex.append(0)\n",
    "        temp=[]\n",
    "        for i in range(vertices_no):\n",
    "            temp.append(0)\n",
    "        graph.append(temp)\n",
    "    \n",
    "def add_edge(v1,v2,e):\n",
    "    global graph\n",
    "    global vertices_no\n",
    "    global vertices\n",
    "    \n",
    "    if v1 not in vertices:\n",
    "        print(\"Vertex \",v1,\"doesn't exist.\")\n",
    "    elif v2 not in vertices:\n",
    "        print(\"Vertex \",v2,\"doesn't exist.\")\n",
    "    else:\n",
    "        index1=vertices.index(v1)\n",
    "        index2=vertices.index(v2)\n",
    "        graph[index1][index2]=e\n",
    "\n",
    "\n",
    "def print_graph():\n",
    "    global graph\n",
    "    global vertices_no\n",
    "    for i in range(vertices_no):\n",
    "        for j in range(vertices_no):\n",
    "            if graph[i][j]!=0:\n",
    "                print(vertices[i],\"-> \",vertices[j],\" edge weight: \",graph[i][j])\n",
    "                "
   ]
  },
  {
   "cell_type": "code",
   "execution_count": null,
   "id": "e2f8db72",
   "metadata": {},
   "outputs": [],
   "source": [
    "vertices=[]\n",
    "vertices_no=0\n",
    "graph=[]\n",
    "tasks=8\n",
    "vertex_list=['T'+str(task+1) for task in range(tasks)]\n",
    "for task in vertex_list:\n",
    "    add_vertex(task)\n",
    "\n",
    "add_edge('T1','T2',3)\n",
    "add_edge('T1','T3',2)\n",
    "add_edge('T2','T4',2)\n",
    "add_edge('T3','T5',2)\n",
    "add_edge('T4','T6',5)\n",
    "add_edge('T5','T6',4)\n",
    "add_edge('T8','T3',2)\n",
    "add_edge('T7','T6',2)\n",
    "\n",
    "print_graph()\n",
    "print(\"\\n\")\n",
    "print(vertices)\n",
    "graph\n"
   ]
  },
  {
   "cell_type": "code",
   "execution_count": null,
   "id": "039de2e6",
   "metadata": {},
   "outputs": [],
   "source": [
    "len(vertices)"
   ]
  },
  {
   "cell_type": "code",
   "execution_count": null,
   "id": "6efebd2f",
   "metadata": {},
   "outputs": [],
   "source": [
    "def topological_sort_helper(V,visited,stack):\n",
    "    visited[V]=True\n",
    "    \n",
    "    for i in graph[V]:\n",
    "        if visited[i]==False:\n",
    "            topological_sort_helper(i,visited,stack)\n",
    "    stack.append(V+1)\n",
    "    \n",
    "def topological_sort():\n",
    "    visited=[False]*len(vertices)\n",
    "    stack=[]\n",
    "    \n",
    "    for i in range(len(vertices)):\n",
    "        if visited[i]==False:\n",
    "            topological_sort_helper(i,visited,stack)\n",
    "    \n",
    "    print(stack[::-1])\n",
    "    \n",
    "topological_sort()\n",
    "sequence_order=['T1', 'T8', 'T7', 'T2', 'T3', 'T4', 'T5', 'T6']\n",
    "\n",
    "# [8, 7, 5, 2, 1, 3, 4, 6]"
   ]
  },
  {
   "cell_type": "code",
   "execution_count": null,
   "id": "5672248d",
   "metadata": {},
   "outputs": [],
   "source": []
  },
  {
   "cell_type": "code",
   "execution_count": null,
   "id": "753b6b51",
   "metadata": {},
   "outputs": [],
   "source": []
  },
  {
   "cell_type": "code",
   "execution_count": null,
   "id": "355d0061",
   "metadata": {},
   "outputs": [],
   "source": []
  },
  {
   "cell_type": "code",
   "execution_count": null,
   "id": "a51977e2",
   "metadata": {},
   "outputs": [],
   "source": []
  },
  {
   "cell_type": "code",
   "execution_count": null,
   "id": "6937a8f5",
   "metadata": {},
   "outputs": [],
   "source": []
  },
  {
   "cell_type": "code",
   "execution_count": null,
   "id": "e599354a",
   "metadata": {},
   "outputs": [],
   "source": []
  },
  {
   "cell_type": "markdown",
   "id": "ffbf6f4c",
   "metadata": {},
   "source": [
    "# Gantt Chart Sample"
   ]
  },
  {
   "cell_type": "code",
   "execution_count": null,
   "id": "04a676ee",
   "metadata": {},
   "outputs": [],
   "source": [
    "import matplotlib.pyplot as plt\n",
    "\n",
    "fig, gnt = plt.subplots()\n",
    "\n",
    "gnt.set_ylim(0, 50)\n",
    "\n",
    "gnt.set_xlim(0, 160)\n",
    "\n",
    "gnt.set_xlabel('Seconds since start')\n",
    "gnt.set_ylabel('Processors')\n",
    "\n",
    "gnt.set_yticks([15, 25, 35])\n",
    "gnt.set_yticklabels(['1', '2', '3'])\n",
    "\n",
    "gnt.grid(True)\n",
    "\n",
    "gnt.broken_barh([(40, 50)], (30, 9), facecolors =('tab:orange'))\n",
    "\n",
    "gnt.broken_barh([(150, 10)], (10, 9),facecolors ='tab:blue')\n",
    "\n",
    "gnt.broken_barh([(10, 50)], (20, 9),facecolors =('tab:red'))\n",
    "gnt.broken_barh([(110, 10)], (10, 9), facecolors =('tab:pink'))\n",
    "gnt.broken_barh([(100, 20)], (20, 9), facecolors =('tab:green'))\n",
    "gnt.broken_barh([(130, 10)], (20, 9), facecolors =('tab:green'))\n",
    "plt.show()\n"
   ]
  },
  {
   "cell_type": "markdown",
   "id": "d739bcd3",
   "metadata": {},
   "source": []
  },
  {
   "cell_type": "code",
   "execution_count": null,
   "id": "d120c1bc",
   "metadata": {},
   "outputs": [],
   "source": []
  }
 ],
 "metadata": {
  "kernelspec": {
   "display_name": "Python 3 (ipykernel)",
   "language": "python",
   "name": "python3"
  },
  "language_info": {
   "codemirror_mode": {
    "name": "ipython",
    "version": 3
   },
   "file_extension": ".py",
   "mimetype": "text/x-python",
   "name": "python",
   "nbconvert_exporter": "python",
   "pygments_lexer": "ipython3",
   "version": "3.10.6"
  }
 },
 "nbformat": 4,
 "nbformat_minor": 5
}
